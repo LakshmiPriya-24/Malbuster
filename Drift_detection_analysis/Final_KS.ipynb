{
 "cells": [
  {
   "cell_type": "code",
   "execution_count": 28,
   "metadata": {},
   "outputs": [
    {
     "name": "stdout",
     "output_type": "stream",
     "text": [
      "Accuracy: 0.999675\n"
     ]
    }
   ],
   "source": [
    "# this is to plot ecdf for test concept scenarios\n",
    "import pandas as pd\n",
    "import numpy as np\n",
    "import lightgbm as lgb\n",
    "from sklearn.metrics import accuracy_score\n",
    "import time\n",
    "\n",
    "elapsed_times = []\n",
    "train_data_path = 'Trainset.csv' \n",
    "train_df = pd.read_csv(train_data_path)\n",
    "test_data_path = 'Testset1.csv'   \n",
    "test_df = pd.read_csv(test_data_path)\n",
    "\n",
    "start_time = time.time()\n",
    "\n",
    "X_train = train_df.drop('label', axis=1)\n",
    "y_train = train_df['label']\n",
    "X_test = test_df.drop('label', axis=1)\n",
    "y_test = test_df['label']\n",
    "\n",
    "\n",
    "clf = lgb.LGBMClassifier()\n",
    "clf.fit(X_train, y_train)\n",
    "predictions = clf.predict(X_test)\n",
    "\n",
    "print(\"Accuracy: \" + str(accuracy_score(y_test, predictions)))"
   ]
  },
  {
   "cell_type": "code",
   "execution_count": 29,
   "metadata": {},
   "outputs": [
    {
     "name": "stdout",
     "output_type": "stream",
     "text": [
      "Accuracy: 0.937175\n"
     ]
    }
   ],
   "source": [
    "# this is to plot ecdf for test concept scenarios\n",
    "import pandas as pd\n",
    "import numpy as np\n",
    "import lightgbm as lgb\n",
    "from sklearn.metrics import accuracy_score\n",
    "import time\n",
    "\n",
    "\n",
    "# Load training data\n",
    "elapsed_times = []\n",
    "train_data_path = 'Trainset.csv'  #you may have to give the path of the trainset file\n",
    "train_df = pd.read_csv(train_data_path)\n",
    "test_data_path = 'Testset2.csv'   #you may have to give the path of the testset file\n",
    "test_df = pd.read_csv(test_data_path)\n",
    "\n",
    "\n",
    "start_time = time.time()\n",
    "\n",
    "# Assuming 'label' is the column you want to predict\n",
    "X_train = train_df.drop('label', axis=1)\n",
    "y_train = train_df['label']\n",
    "X_test = test_df.drop('label', axis=1)\n",
    "y_test = test_df['label']\n",
    "\n",
    "# Train a decision tree classifier (replace with your actual classifier)\n",
    "clf = lgb.LGBMClassifier()\n",
    "clf.fit(X_train, y_train)\n",
    "predictions = clf.predict(X_test)\n",
    "\n",
    "print(\"Accuracy: \" + str(accuracy_score(y_test, predictions)))"
   ]
  },
  {
   "cell_type": "code",
   "execution_count": 24,
   "metadata": {},
   "outputs": [
    {
     "name": "stdout",
     "output_type": "stream",
     "text": [
      "Column: label\n",
      "KS Statistic: 0.0\n",
      "P-Value: 1.0\n",
      "No drift detected in column label.\n",
      "\n",
      "Column: orig_ip_bytes\n",
      "KS Statistic: 0.0005124999999999991\n",
      "P-Value: 1.0\n",
      "No drift detected in column orig_ip_bytes.\n",
      "\n",
      "Column: orig_pkts\n",
      "KS Statistic: 0.0005000000000000004\n",
      "P-Value: 1.0\n",
      "No drift detected in column orig_pkts.\n",
      "\n"
     ]
    }
   ],
   "source": [
    "import pandas as pd\n",
    "from scipy import stats\n",
    "\n",
    "# Load the training and testing datasets\n",
    "train_data = pd.read_csv('Trainset.csv')\n",
    "test_data = pd.read_csv('Testset1.csv')\n",
    "\n",
    "# Define the columns to use for the KS Test\n",
    "columns_to_test = train_data.columns\n",
    "\n",
    "# Perform the KS Test for each column\n",
    "for column in columns_to_test:\n",
    "    train_values = train_data[column]\n",
    "    test_values = test_data[column]\n",
    "    \n",
    "    # Perform the KS Test\n",
    "    ks_stat, p_value = stats.ks_2samp(train_values, test_values)\n",
    "    \n",
    "    # Print the results\n",
    "    print(f\"Column: {column}\")\n",
    "    print(f\"KS Statistic: {ks_stat}\")\n",
    "    print(f\"P-Value: {p_value}\")\n",
    "    \n",
    "    # If the p-value is less than a certain significance level (e.g., 0.05), you can reject the null hypothesis and conclude that the distributions are different\n",
    "    if p_value < 0.05:\n",
    "        print(f\"Drift detected in column {column}!\")\n",
    "    else:\n",
    "        print(f\"No drift detected in column {column}.\")\n",
    "    print()"
   ]
  },
  {
   "cell_type": "code",
   "execution_count": 25,
   "metadata": {},
   "outputs": [
    {
     "name": "stdout",
     "output_type": "stream",
     "text": [
      "Column: label\n",
      "KS Statistic: 0.0\n",
      "P-Value: 1.0\n",
      "No drift detected in column label.\n",
      "\n",
      "Column: orig_ip_bytes\n",
      "KS Statistic: 0.06053749999999991\n",
      "P-Value: 7.120070401448669e-128\n",
      "Drift detected in column orig_ip_bytes!\n",
      "\n",
      "Column: orig_pkts\n",
      "KS Statistic: 0.0005000000000000004\n",
      "P-Value: 1.0\n",
      "No drift detected in column orig_pkts.\n",
      "\n"
     ]
    }
   ],
   "source": [
    "import pandas as pd\n",
    "from scipy import stats\n",
    "\n",
    "# Load the training and testing datasets\n",
    "train_data = pd.read_csv('Trainset.csv')\n",
    "test_data = pd.read_csv('Testset2.csv')\n",
    "\n",
    "# Define the columns to use for the KS Test\n",
    "columns_to_test = train_data.columns\n",
    "\n",
    "# Perform the KS Test for each column\n",
    "for column in columns_to_test:\n",
    "    train_values = train_data[column]\n",
    "    test_values = test_data[column]\n",
    "    \n",
    "    # Perform the KS Test\n",
    "    ks_stat, p_value = stats.ks_2samp(train_values, test_values)\n",
    "    \n",
    "    # Print the results\n",
    "    print(f\"Column: {column}\")\n",
    "    print(f\"KS Statistic: {ks_stat}\")\n",
    "    print(f\"P-Value: {p_value}\")\n",
    "    \n",
    "    # If the p-value is less than a certain significance level (e.g., 0.05), you can reject the null hypothesis and conclude that the distributions are different\n",
    "    if p_value < 0.05:\n",
    "        print(f\"Drift detected in column {column}!\")\n",
    "    else:\n",
    "        print(f\"No drift detected in column {column}.\")\n",
    "    print()\n",
    "\n"
   ]
  },
  {
   "cell_type": "code",
   "execution_count": 26,
   "metadata": {},
   "outputs": [
    {
     "name": "stdout",
     "output_type": "stream",
     "text": [
      "Retrained model accuracy: 0.99921875\n"
     ]
    }
   ],
   "source": [
    "from sklearn.ensemble import RandomForestClassifier\n",
    "from sklearn.model_selection import train_test_split\n",
    "from sklearn.metrics import accuracy_score\n",
    "\n",
    "# Combine the data (you might want to handle this differently based on your use case)\n",
    "combined_data = pd.concat([train_data, test_data], ignore_index=True)\n",
    "\n",
    "# Use the drifted columns or all columns for retraining\n",
    "features = drifted_columns if drifted_columns else train_data.columns.drop('orig_ip_bytes')\n",
    "X = combined_data[features]\n",
    "y = combined_data['orig_ip_bytes']  \n",
    "\n",
    "# Split the data\n",
    "X_train, X_test, y_train, y_test = train_test_split(X, y, test_size=0.2, random_state=42)\n",
    "\n",
    "# Train a new model\n",
    "model = RandomForestClassifier(random_state=42)\n",
    "model.fit(X_train, y_train)\n",
    "\n",
    "# Evaluate the model\n",
    "y_pred = model.predict(X_test)\n",
    "accuracy = accuracy_score(y_test, y_pred)\n",
    "\n",
    "print(f\"Retrained model accuracy: {accuracy}\")"
   ]
  },
  {
   "cell_type": "code",
   "execution_count": 27,
   "metadata": {},
   "outputs": [
    {
     "name": "stdout",
     "output_type": "stream",
     "text": [
      "Retrained model accuracy: 0.9992\n"
     ]
    }
   ],
   "source": [
    "def adapt_features(drifted_columns, train_data, test_data):\n",
    "\n",
    "    # Use only the features with detected drift \n",
    "    features = drifted_columns if drifted_columns else train_data.columns.drop('orig_ip_bytes')\n",
    "    \n",
    "    X_train = train_data[features]\n",
    "    y_train = train_data['orig_ip_bytes']\n",
    "    X_test = test_data[features]\n",
    "    y_test = test_data['orig_ip_bytes']\n",
    "    \n",
    "    return X_train, X_test, y_train, y_test\n",
    "\n",
    "# Adapt features\n",
    "X_train, X_test, y_train, y_test = adapt_features(drifted_columns, train_data, test_data)\n",
    "\n",
    "# Train a new model with adapted features\n",
    "model = RandomForestClassifier(random_state=42)\n",
    "model.fit(X_train, y_train)\n",
    "\n",
    "# Evaluate the model\n",
    "y_pred = model.predict(X_test)\n",
    "accuracy = accuracy_score(y_test, y_pred)\n",
    "\n",
    "print(f\"Retrained model accuracy: {accuracy:.4f}\")"
   ]
  },
  {
   "cell_type": "code",
   "execution_count": null,
   "metadata": {},
   "outputs": [],
   "source": []
  },
  {
   "cell_type": "code",
   "execution_count": null,
   "metadata": {},
   "outputs": [],
   "source": []
  }
 ],
 "metadata": {
  "kernelspec": {
   "display_name": "Python 3",
   "language": "python",
   "name": "python3"
  },
  "language_info": {
   "codemirror_mode": {
    "name": "ipython",
    "version": 3
   },
   "file_extension": ".py",
   "mimetype": "text/x-python",
   "name": "python",
   "nbconvert_exporter": "python",
   "pygments_lexer": "ipython3",
   "version": "3.11.9"
  }
 },
 "nbformat": 4,
 "nbformat_minor": 2
}
